{
 "cells": [
  {
   "cell_type": "code",
   "execution_count": 1,
   "id": "cb213933",
   "metadata": {
    "tags": [
     "parameters"
    ]
   },
   "outputs": [],
   "source": [
    "data_process = \"data/processed\"\n",
    "data_final = \"data/final/predictions.pkl\""
   ]
  },
  {
   "cell_type": "code",
   "execution_count": 10,
   "id": "7909ac44",
   "metadata": {},
   "outputs": [
    {
     "name": "stdout",
     "output_type": "stream",
     "text": [
      "usage: conda [-h] [-V] command ...\n",
      "conda: error: unrecognized arguments: --upgrade\n",
      "\n",
      "Note: you may need to restart the kernel to use updated packages.\n"
     ]
    }
   ],
   "source": [
    "conda install pandas --upgrade"
   ]
  },
  {
   "cell_type": "code",
   "execution_count": 8,
   "id": "4f95f43b",
   "metadata": {},
   "outputs": [
    {
     "ename": "ImportError",
     "evalue": "cannot import name 'AxisInt' from 'pandas._typing' (/opt/homebrew/anaconda3/lib/python3.9/site-packages/pandas/_typing.py)",
     "output_type": "error",
     "traceback": [
      "\u001b[0;31m---------------------------------------------------------------------------\u001b[0m",
      "\u001b[0;31mImportError\u001b[0m                               Traceback (most recent call last)",
      "\u001b[1;32m/Users/spennyz/Personal Projects/gym-tools/analyze_results.ipynb Cell 2'\u001b[0m in \u001b[0;36m<cell line: 1>\u001b[0;34m()\u001b[0m\n\u001b[0;32m----> <a href='vscode-notebook-cell:/Users/spennyz/Personal%20Projects/gym-tools/analyze_results.ipynb#ch0000001?line=0'>1</a>\u001b[0m \u001b[39mimport\u001b[39;00m \u001b[39mformulas\u001b[39;00m\n",
      "File \u001b[0;32m~/Personal Projects/gym-tools/formulas.py:1\u001b[0m, in \u001b[0;36m<module>\u001b[0;34m\u001b[0m\n\u001b[0;32m----> <a href='file:///Users/spennyz/Personal%20Projects/gym-tools/formulas.py?line=0'>1</a>\u001b[0m \u001b[39mimport\u001b[39;00m \u001b[39mstreamlit\u001b[39;00m \u001b[39mas\u001b[39;00m \u001b[39mst\u001b[39;00m\n\u001b[1;32m      <a href='file:///Users/spennyz/Personal%20Projects/gym-tools/formulas.py?line=1'>2</a>\u001b[0m \u001b[39mimport\u001b[39;00m \u001b[39mnumpy\u001b[39;00m \u001b[39mas\u001b[39;00m \u001b[39mnp\u001b[39;00m\n\u001b[1;32m      <a href='file:///Users/spennyz/Personal%20Projects/gym-tools/formulas.py?line=2'>3</a>\u001b[0m \u001b[39mimport\u001b[39;00m \u001b[39mpandas\u001b[39;00m \u001b[39mas\u001b[39;00m \u001b[39mpd\u001b[39;00m\n",
      "File \u001b[0;32m/opt/homebrew/anaconda3/lib/python3.9/site-packages/streamlit/__init__.py:55\u001b[0m, in \u001b[0;36m<module>\u001b[0;34m\u001b[0m\n\u001b[1;32m     <a href='file:///opt/homebrew/anaconda3/lib/python3.9/site-packages/streamlit/__init__.py?line=51'>52</a>\u001b[0m \u001b[39m# Give the package a version.\u001b[39;00m\n\u001b[1;32m     <a href='file:///opt/homebrew/anaconda3/lib/python3.9/site-packages/streamlit/__init__.py?line=52'>53</a>\u001b[0m __version__ \u001b[39m=\u001b[39m _STREAMLIT_VERSION_STRING\n\u001b[0;32m---> <a href='file:///opt/homebrew/anaconda3/lib/python3.9/site-packages/streamlit/__init__.py?line=54'>55</a>\u001b[0m \u001b[39mfrom\u001b[39;00m \u001b[39mstreamlit\u001b[39;00m\u001b[39m.\u001b[39;00m\u001b[39mdelta_generator\u001b[39;00m \u001b[39mimport\u001b[39;00m DeltaGenerator \u001b[39mas\u001b[39;00m _DeltaGenerator\n\u001b[1;32m     <a href='file:///opt/homebrew/anaconda3/lib/python3.9/site-packages/streamlit/__init__.py?line=55'>56</a>\u001b[0m \u001b[39mfrom\u001b[39;00m \u001b[39mstreamlit\u001b[39;00m\u001b[39m.\u001b[39;00m\u001b[39mproto\u001b[39;00m\u001b[39m.\u001b[39;00m\u001b[39mRootContainer_pb2\u001b[39;00m \u001b[39mimport\u001b[39;00m RootContainer \u001b[39mas\u001b[39;00m _RootContainer\n\u001b[1;32m     <a href='file:///opt/homebrew/anaconda3/lib/python3.9/site-packages/streamlit/__init__.py?line=56'>57</a>\u001b[0m \u001b[39mfrom\u001b[39;00m \u001b[39mstreamlit\u001b[39;00m\u001b[39m.\u001b[39;00m\u001b[39mruntime\u001b[39;00m\u001b[39m.\u001b[39;00m\u001b[39mcaching\u001b[39;00m \u001b[39mimport\u001b[39;00m (\n\u001b[1;32m     <a href='file:///opt/homebrew/anaconda3/lib/python3.9/site-packages/streamlit/__init__.py?line=57'>58</a>\u001b[0m     cache_resource \u001b[39mas\u001b[39;00m _cache_resource,\n\u001b[1;32m     <a href='file:///opt/homebrew/anaconda3/lib/python3.9/site-packages/streamlit/__init__.py?line=58'>59</a>\u001b[0m     cache_data \u001b[39mas\u001b[39;00m _cache_data,\n\u001b[1;32m     <a href='file:///opt/homebrew/anaconda3/lib/python3.9/site-packages/streamlit/__init__.py?line=59'>60</a>\u001b[0m     experimental_singleton \u001b[39mas\u001b[39;00m _experimental_singleton,\n\u001b[1;32m     <a href='file:///opt/homebrew/anaconda3/lib/python3.9/site-packages/streamlit/__init__.py?line=60'>61</a>\u001b[0m     experimental_memo \u001b[39mas\u001b[39;00m _experimental_memo,\n\u001b[1;32m     <a href='file:///opt/homebrew/anaconda3/lib/python3.9/site-packages/streamlit/__init__.py?line=61'>62</a>\u001b[0m )\n",
      "File \u001b[0;32m/opt/homebrew/anaconda3/lib/python3.9/site-packages/streamlit/delta_generator.py:42\u001b[0m, in \u001b[0;36m<module>\u001b[0;34m\u001b[0m\n\u001b[1;32m     <a href='file:///opt/homebrew/anaconda3/lib/python3.9/site-packages/streamlit/delta_generator.py?line=37'>38</a>\u001b[0m \u001b[39mfrom\u001b[39;00m \u001b[39mstreamlit\u001b[39;00m\u001b[39m.\u001b[39;00m\u001b[39melements\u001b[39;00m\u001b[39m.\u001b[39;00m\u001b[39malert\u001b[39;00m \u001b[39mimport\u001b[39;00m AlertMixin\n\u001b[1;32m     <a href='file:///opt/homebrew/anaconda3/lib/python3.9/site-packages/streamlit/delta_generator.py?line=39'>40</a>\u001b[0m \u001b[39m# DataFrame elements come in two flavors: \"Legacy\" and \"Arrow\".\u001b[39;00m\n\u001b[1;32m     <a href='file:///opt/homebrew/anaconda3/lib/python3.9/site-packages/streamlit/delta_generator.py?line=40'>41</a>\u001b[0m \u001b[39m# We select between them with the DataFrameElementSelectorMixin.\u001b[39;00m\n\u001b[0;32m---> <a href='file:///opt/homebrew/anaconda3/lib/python3.9/site-packages/streamlit/delta_generator.py?line=41'>42</a>\u001b[0m \u001b[39mfrom\u001b[39;00m \u001b[39mstreamlit\u001b[39;00m\u001b[39m.\u001b[39;00m\u001b[39melements\u001b[39;00m\u001b[39m.\u001b[39;00m\u001b[39marrow\u001b[39;00m \u001b[39mimport\u001b[39;00m ArrowMixin\n\u001b[1;32m     <a href='file:///opt/homebrew/anaconda3/lib/python3.9/site-packages/streamlit/delta_generator.py?line=42'>43</a>\u001b[0m \u001b[39mfrom\u001b[39;00m \u001b[39mstreamlit\u001b[39;00m\u001b[39m.\u001b[39;00m\u001b[39melements\u001b[39;00m\u001b[39m.\u001b[39;00m\u001b[39marrow_altair\u001b[39;00m \u001b[39mimport\u001b[39;00m ArrowAltairMixin\n\u001b[1;32m     <a href='file:///opt/homebrew/anaconda3/lib/python3.9/site-packages/streamlit/delta_generator.py?line=43'>44</a>\u001b[0m \u001b[39mfrom\u001b[39;00m \u001b[39mstreamlit\u001b[39;00m\u001b[39m.\u001b[39;00m\u001b[39melements\u001b[39;00m\u001b[39m.\u001b[39;00m\u001b[39marrow_vega_lite\u001b[39;00m \u001b[39mimport\u001b[39;00m ArrowVegaLiteMixin\n",
      "File \u001b[0;32m/opt/homebrew/anaconda3/lib/python3.9/site-packages/streamlit/elements/arrow.py:31\u001b[0m, in \u001b[0;36m<module>\u001b[0;34m\u001b[0m\n\u001b[1;32m     <a href='file:///opt/homebrew/anaconda3/lib/python3.9/site-packages/streamlit/elements/arrow.py?line=28'>29</a>\u001b[0m \u001b[39mfrom\u001b[39;00m \u001b[39mnumpy\u001b[39;00m \u001b[39mimport\u001b[39;00m ndarray\n\u001b[1;32m     <a href='file:///opt/homebrew/anaconda3/lib/python3.9/site-packages/streamlit/elements/arrow.py?line=29'>30</a>\u001b[0m \u001b[39mfrom\u001b[39;00m \u001b[39mpandas\u001b[39;00m \u001b[39mimport\u001b[39;00m DataFrame\n\u001b[0;32m---> <a href='file:///opt/homebrew/anaconda3/lib/python3.9/site-packages/streamlit/elements/arrow.py?line=30'>31</a>\u001b[0m \u001b[39mfrom\u001b[39;00m \u001b[39mpandas\u001b[39;00m\u001b[39m.\u001b[39;00m\u001b[39mio\u001b[39;00m\u001b[39m.\u001b[39;00m\u001b[39mformats\u001b[39;00m\u001b[39m.\u001b[39;00m\u001b[39mstyle\u001b[39;00m \u001b[39mimport\u001b[39;00m Styler\n\u001b[1;32m     <a href='file:///opt/homebrew/anaconda3/lib/python3.9/site-packages/streamlit/elements/arrow.py?line=32'>33</a>\u001b[0m \u001b[39mfrom\u001b[39;00m \u001b[39mstreamlit\u001b[39;00m \u001b[39mimport\u001b[39;00m type_util\n\u001b[1;32m     <a href='file:///opt/homebrew/anaconda3/lib/python3.9/site-packages/streamlit/elements/arrow.py?line=33'>34</a>\u001b[0m \u001b[39mfrom\u001b[39;00m \u001b[39mstreamlit\u001b[39;00m\u001b[39m.\u001b[39;00m\u001b[39mproto\u001b[39;00m\u001b[39m.\u001b[39;00m\u001b[39mArrow_pb2\u001b[39;00m \u001b[39mimport\u001b[39;00m Arrow \u001b[39mas\u001b[39;00m ArrowProto\n",
      "File \u001b[0;32m/opt/homebrew/anaconda3/lib/python3.9/site-packages/pandas/io/formats/style.py:24\u001b[0m, in \u001b[0;36m<module>\u001b[0;34m\u001b[0m\n\u001b[1;32m     <a href='file:///opt/homebrew/anaconda3/lib/python3.9/site-packages/pandas/io/formats/style.py?line=20'>21</a>\u001b[0m \u001b[39mfrom\u001b[39;00m \u001b[39mpandas\u001b[39;00m\u001b[39m.\u001b[39;00m\u001b[39m_config\u001b[39;00m \u001b[39mimport\u001b[39;00m get_option\n\u001b[1;32m     <a href='file:///opt/homebrew/anaconda3/lib/python3.9/site-packages/pandas/io/formats/style.py?line=22'>23</a>\u001b[0m \u001b[39mfrom\u001b[39;00m \u001b[39mpandas\u001b[39;00m\u001b[39m.\u001b[39;00m\u001b[39m_libs\u001b[39;00m \u001b[39mimport\u001b[39;00m lib\n\u001b[0;32m---> <a href='file:///opt/homebrew/anaconda3/lib/python3.9/site-packages/pandas/io/formats/style.py?line=23'>24</a>\u001b[0m \u001b[39mfrom\u001b[39;00m \u001b[39mpandas\u001b[39;00m\u001b[39m.\u001b[39;00m\u001b[39m_typing\u001b[39;00m \u001b[39mimport\u001b[39;00m (\n\u001b[1;32m     <a href='file:///opt/homebrew/anaconda3/lib/python3.9/site-packages/pandas/io/formats/style.py?line=24'>25</a>\u001b[0m     Axis,\n\u001b[1;32m     <a href='file:///opt/homebrew/anaconda3/lib/python3.9/site-packages/pandas/io/formats/style.py?line=25'>26</a>\u001b[0m     FilePath,\n\u001b[1;32m     <a href='file:///opt/homebrew/anaconda3/lib/python3.9/site-packages/pandas/io/formats/style.py?line=26'>27</a>\u001b[0m     IndexLabel,\n\u001b[1;32m     <a href='file:///opt/homebrew/anaconda3/lib/python3.9/site-packages/pandas/io/formats/style.py?line=27'>28</a>\u001b[0m     Level,\n\u001b[1;32m     <a href='file:///opt/homebrew/anaconda3/lib/python3.9/site-packages/pandas/io/formats/style.py?line=28'>29</a>\u001b[0m     QuantileInterpolation,\n\u001b[1;32m     <a href='file:///opt/homebrew/anaconda3/lib/python3.9/site-packages/pandas/io/formats/style.py?line=29'>30</a>\u001b[0m     Scalar,\n\u001b[1;32m     <a href='file:///opt/homebrew/anaconda3/lib/python3.9/site-packages/pandas/io/formats/style.py?line=30'>31</a>\u001b[0m     StorageOptions,\n\u001b[1;32m     <a href='file:///opt/homebrew/anaconda3/lib/python3.9/site-packages/pandas/io/formats/style.py?line=31'>32</a>\u001b[0m     WriteBuffer,\n\u001b[1;32m     <a href='file:///opt/homebrew/anaconda3/lib/python3.9/site-packages/pandas/io/formats/style.py?line=32'>33</a>\u001b[0m )\n\u001b[1;32m     <a href='file:///opt/homebrew/anaconda3/lib/python3.9/site-packages/pandas/io/formats/style.py?line=33'>34</a>\u001b[0m \u001b[39mfrom\u001b[39;00m \u001b[39mpandas\u001b[39;00m\u001b[39m.\u001b[39;00m\u001b[39mcompat\u001b[39;00m\u001b[39m.\u001b[39;00m\u001b[39m_optional\u001b[39;00m \u001b[39mimport\u001b[39;00m import_optional_dependency\n\u001b[1;32m     <a href='file:///opt/homebrew/anaconda3/lib/python3.9/site-packages/pandas/io/formats/style.py?line=34'>35</a>\u001b[0m \u001b[39mfrom\u001b[39;00m \u001b[39mpandas\u001b[39;00m\u001b[39m.\u001b[39;00m\u001b[39mutil\u001b[39;00m\u001b[39m.\u001b[39;00m\u001b[39m_decorators\u001b[39;00m \u001b[39mimport\u001b[39;00m (\n\u001b[1;32m     <a href='file:///opt/homebrew/anaconda3/lib/python3.9/site-packages/pandas/io/formats/style.py?line=35'>36</a>\u001b[0m     Substitution,\n\u001b[1;32m     <a href='file:///opt/homebrew/anaconda3/lib/python3.9/site-packages/pandas/io/formats/style.py?line=36'>37</a>\u001b[0m     doc,\n\u001b[1;32m     <a href='file:///opt/homebrew/anaconda3/lib/python3.9/site-packages/pandas/io/formats/style.py?line=37'>38</a>\u001b[0m )\n",
      "\u001b[0;31mImportError\u001b[0m: cannot import name 'AxisInt' from 'pandas._typing' (/opt/homebrew/anaconda3/lib/python3.9/site-packages/pandas/_typing.py)"
     ]
    }
   ],
   "source": [
    "import formulas\n"
   ]
  },
  {
   "cell_type": "code",
   "execution_count": null,
   "id": "a129fce7",
   "metadata": {},
   "outputs": [],
   "source": [
    "# import joblib \n",
    "# import pandas as pd \n",
    "# from sklearn.metrics import confusion_matrix\n",
    "# import joblib\n",
    "\n",
    "# y_pred = joblib.load(data_process)['y_test']\n",
    "# predictions = joblib.load(data_final)\n",
    "# confusion_matrix(y_pred, predictions)\n"
   ]
  }
 ],
 "metadata": {
  "hide_input": false,
  "kernelspec": {
   "display_name": "test-data-science-template-9SsNPGGj-py3.9",
   "language": "python",
   "name": "python3"
  },
  "language_info": {
   "codemirror_mode": {
    "name": "ipython",
    "version": 3
   },
   "file_extension": ".py",
   "mimetype": "text/x-python",
   "name": "python",
   "nbconvert_exporter": "python",
   "pygments_lexer": "ipython3",
   "version": "3.9.12"
  },
  "toc": {
   "base_numbering": 1,
   "nav_menu": {},
   "number_sections": true,
   "sideBar": true,
   "skip_h1_title": false,
   "title_cell": "Table of Contents",
   "title_sidebar": "Contents",
   "toc_cell": false,
   "toc_position": {},
   "toc_section_display": true,
   "toc_window_display": false
  },
  "vscode": {
   "interpreter": {
    "hash": "1d1fba17d7ad6092d8d311552813da9e34085534a7d25de0383e44565bbb3ff8"
   }
  }
 },
 "nbformat": 4,
 "nbformat_minor": 5
}
